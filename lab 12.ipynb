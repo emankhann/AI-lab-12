{
 "cells": [
  {
   "cell_type": "code",
   "execution_count": null,
   "id": "8fac17c2-b01b-4982-ae19-166fe1134100",
   "metadata": {},
   "outputs": [],
   "source": []
  }
 ],
 "metadata": {
  "kernelspec": {
   "display_name": "",
   "name": ""
  },
  "language_info": {
   "name": ""
  }
 },
 "nbformat": 4,
 "nbformat_minor": 5
}
